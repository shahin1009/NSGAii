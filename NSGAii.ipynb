{
 "cells": [
  {
   "cell_type": "code",
   "execution_count": null,
   "metadata": {},
   "outputs": [],
   "source": [
    "import numpy as np\n",
    "import math\n",
    "import random\n",
    "import matplotlib.animation as animation\n",
    "import matplotlib.pyplot as plt\n",
    "%matplotlib inline\n",
    "from operator import itemgetter\n",
    "import time"
   ]
  },
  {
   "cell_type": "markdown",
   "metadata": {},
   "source": [
    "Functions"
   ]
  },
  {
   "cell_type": "code",
   "execution_count": null,
   "metadata": {},
   "outputs": [],
   "source": [
    "#Objective fnction\n",
    "def MOP2(x):\n",
    "    n = np.size(x)\n",
    "    z1=1-np.exp(-np.sum((x-1/np.sqrt(n))**2))\n",
    "    z2=1-np.exp(-np.sum((x+1/np.sqrt(n))**2))\n",
    "    return np.array([z1 , z2])\n",
    "    "
   ]
  },
  {
   "cell_type": "code",
   "execution_count": null,
   "metadata": {},
   "outputs": [],
   "source": [
    "#Population Class\n",
    "class Individual:\n",
    "    def __init__(self, \n",
    "                 VarMin = -5 , VarMax = 5 , nVar = 3 , \n",
    "                 Rank=0 , \n",
    "                 DominationSet=[] , \n",
    "                 DominatedCount=0, \n",
    "                 CrowdingDistance=[]):\n",
    "        \n",
    "        self.Position = np.random.randint(VarMin , VarMax , nVar)\n",
    "        self.Cost = MOP2(self.Position)\n",
    "        self.Rank = Rank\n",
    "        self.DominationSet = DominationSet\n",
    "        self.DominatedCount = DominatedCount\n",
    "        self.CrowdingDistance = CrowdingDistance"
   ]
  },
  {
   "cell_type": "code",
   "execution_count": null,
   "metadata": {},
   "outputs": [],
   "source": [
    "def Dominates(x , y):\n",
    "    if isinstance(x , Individual):\n",
    "        x=x.Cost\n",
    "    if isinstance(y , Individual):\n",
    "        y=y.Cost\n",
    "    \n",
    "    return np.all(x<=y) & np.any(x<y)"
   ]
  },
  {
   "cell_type": "code",
   "execution_count": null,
   "metadata": {},
   "outputs": [],
   "source": [
    "def NonDominatedSorting(pop):\n",
    "    nPop = np.size(pop)\n",
    "    F={}\n",
    "    F[1]=[]\n",
    "    for i in range(nPop):\n",
    "        pop[i].DominationSet=[]\n",
    "        pop[i].DominatedCount=0\n",
    "    \n",
    "    for i in range(nPop):\n",
    "        for j in range(i+1 , nPop):\n",
    "            p=pop[i]\n",
    "            q=pop[j]\n",
    "            if Dominates(p , q):\n",
    "                p.DominationSet.append(j)\n",
    "                q.DominatedCount=q.DominatedCount+1\n",
    "                \n",
    "            if Dominates(q ,p ):\n",
    "                q.DominationSet.append(i)\n",
    "                p.DominatedCount=p.DominatedCount+1\n",
    "            \n",
    "            pop[i] = p\n",
    "            pop[j] = q\n",
    "            \n",
    "        if pop[i].DominatedCount==0:\n",
    "            F[1].append(i)\n",
    "            pop[i].Rank=1\n",
    "                \n",
    "    k=1\n",
    "    \n",
    "    while True: \n",
    "        Q=[]\n",
    "        \n",
    "        for i in F[k]:\n",
    "            p=pop[i]\n",
    "            \n",
    "            for j in p.DominationSet:\n",
    "                \n",
    "                q=pop[j]\n",
    "                q.DominatedCount=q.DominatedCount-1\n",
    "                \n",
    "                if q.DominatedCount==0:\n",
    "                    Q.append(j)\n",
    "                    q.Rank=k+1\n",
    "                \n",
    "                pop[j]=q\n",
    "        \n",
    "        if not Q:\n",
    "            break\n",
    "        \n",
    "        F[k+1]=Q\n",
    "        k=k+1\n",
    "    return pop , F"
   ]
  },
  {
   "cell_type": "code",
   "execution_count": null,
   "metadata": {},
   "outputs": [],
   "source": [
    "def CalcCrowdingDistance (pop , F):\n",
    "\n",
    "    nF=len(F)\n",
    "    \n",
    "    for k in range(1 , nF+1):\n",
    "        \n",
    "        Costs = [pop[x].Cost.tolist() for x in F[k]]\n",
    "        \n",
    "        nObj=len(Costs[0])\n",
    "        \n",
    "        n = len(F[k])\n",
    "        \n",
    "        d=np.zeros((n,nObj))\n",
    "        \n",
    "        for j in range(nObj):\n",
    "            \n",
    "            so = [i[0] for i in sorted(enumerate(Costs), key=lambda x:x[1][j])]\n",
    "            cj = [ x[j] for x in sorted(Costs, key=itemgetter(j), reverse=False)]\n",
    "            \n",
    "            d[so[0],j] = np.Inf\n",
    "            \n",
    "            if n>2:\n",
    "                for i in range(1 , n-1):\n",
    "                    \n",
    "                    if abs(cj[0]-cj[-1]) !=0:\n",
    "                        d[so[i],j]= abs(cj[i+1] - cj[i-1]) / abs(cj[0]-cj[-1])\n",
    "                    else:\n",
    "                        d[so[i],j] = 0\n",
    "            \n",
    "            d[so[-1],j] = np.Inf\n",
    "            \n",
    "        for i in range(n):\n",
    "            pop[F[k][i]].CrowdingDistance = sum(d[i,:])\n",
    "    return pop\n",
    "        "
   ]
  },
  {
   "cell_type": "code",
   "execution_count": null,
   "metadata": {},
   "outputs": [],
   "source": [
    "def SortPopulation(pop):\n",
    "\n",
    "    # Sort Based on Crowding Distance\n",
    "    pop = sorted(pop, key=lambda x: x.CrowdingDistance, reverse=True)\n",
    "    \n",
    "    # Sort Based on Rank\n",
    "    pop = sorted(pop, key=lambda x: x.Rank, reverse=False)\n",
    "    \n",
    "    \n",
    "    \n",
    "    # # Update Fronts\n",
    "    Ranks=[pop[i].Rank for i in range(nPop)]\n",
    "    MaxRank=max(Ranks)\n",
    "    F={}\n",
    "    \n",
    "    for r in range(1 , MaxRank+1):\n",
    "        F[r]=[i for i, e in enumerate(Ranks) if e == r]\n",
    "        \n",
    "    return pop , F\n",
    "    "
   ]
  },
  {
   "cell_type": "code",
   "execution_count": null,
   "metadata": {},
   "outputs": [],
   "source": [
    "def Crossover(x1,x2):\n",
    "\n",
    "    alpha=np.random.rand(len(x1))\n",
    "    \n",
    "    y1 = alpha * x1 + (1-alpha)*x2\n",
    "    y2 = alpha * x2 + (1-alpha)*x1\n",
    "    return y1 , y2\n",
    "    \n"
   ]
  },
  {
   "cell_type": "code",
   "execution_count": null,
   "metadata": {},
   "outputs": [],
   "source": [
    "def Mutate(x,mu,sigma):\n",
    "    \n",
    "    nVar = np.size(x)\n",
    "    nMu = math.ceil(mu*nVar)\n",
    "    \n",
    "    j = random.sample(range(nVar),nMu)\n",
    "    \n",
    "    y=x\n",
    "    y[j]= x[j] + sigma * np.random.randn(len(j))\n",
    "    \n",
    "    return y"
   ]
  },
  {
   "cell_type": "markdown",
   "metadata": {},
   "source": [
    "Initialization"
   ]
  },
  {
   "cell_type": "code",
   "execution_count": null,
   "metadata": {},
   "outputs": [],
   "source": [
    "nVar = 3           # Number of Decision Variables\n",
    "VarMin=-5          # Lower Bound of Variables\n",
    "VarMax= 5          # Upper Bound of Variables\n",
    "\n",
    "# nmber of objective functions\n",
    "nobj = np.size(MOP2(np.random.randint(VarMin , VarMax , nVar)))"
   ]
  },
  {
   "cell_type": "code",
   "execution_count": null,
   "metadata": {},
   "outputs": [],
   "source": [
    "## NSGA-II Parameters\n",
    "\n",
    "MaxIt=100;      # Maximum Number of Iterations\n",
    "\n",
    "nPop=50;        # Population Size\n",
    "\n",
    "pCrossover=0.7;                         # Crossover Percentage\n",
    "nCrossover=2*round(pCrossover*nPop/2);  # Number of Parnets (Offsprings)\n",
    "\n",
    "pMutation=0.4;                          # Mutation Percentage\n",
    "nMutation=round(pMutation*nPop);        # Number of Mutants\n",
    "\n",
    "mu=0.02;                    # Mutation Rate\n",
    "\n",
    "sigma=0.1*(VarMax-VarMin);  # Mutation Step Size"
   ]
  },
  {
   "cell_type": "code",
   "execution_count": null,
   "metadata": {},
   "outputs": [],
   "source": [
    "pop = np.empty(nPop , dtype=Individual)\n",
    "for i in range(nPop):\n",
    "    pop[i] = Individual(VarMin = VarMin , VarMax = VarMax , nVar = nVar )"
   ]
  },
  {
   "cell_type": "code",
   "execution_count": null,
   "metadata": {},
   "outputs": [],
   "source": [
    "x = [pop[j].Cost[0] for j in range(nPop)]\n",
    "y = [pop[j].Cost[1] for j in range(nPop)]\n",
    "fig, ax = plt.subplots()\n",
    "ax.scatter(x, y, marker='o')\n",
    "plt.show()"
   ]
  },
  {
   "cell_type": "code",
   "execution_count": null,
   "metadata": {},
   "outputs": [],
   "source": [
    "pop , F = NonDominatedSorting(pop)\n",
    "pop = CalcCrowdingDistance(pop,F)\n",
    "pop , F = SortPopulation(pop)"
   ]
  },
  {
   "cell_type": "markdown",
   "metadata": {},
   "source": [
    "Main Loop"
   ]
  },
  {
   "cell_type": "code",
   "execution_count": null,
   "metadata": {},
   "outputs": [],
   "source": [
    "for it in range(MaxIt):\n",
    "    popc = np.empty((int(nCrossover/2) , 2) , dtype=Individual)\n",
    "    \n",
    "    for k in range(int(nCrossover/2)):\n",
    "        popc[k,0]=Individual()\n",
    "        popc[k,1]=Individual()\n",
    "        \n",
    "        i1 = np.random.randint(0 , nPop)\n",
    "        p1=pop[i1]\n",
    "        \n",
    "        i2 = np.random.randint(0 , nPop)\n",
    "        p2=pop[i2]\n",
    "        \n",
    "        popc[k,0].Position , popc[k,1].Position = Crossover(p1.Position,p2.Position)\n",
    "        \n",
    "        popc[k,0].Cost = MOP2(popc[k,0].Position )\n",
    "        popc[k,1].Cost = MOP2(popc[k,1].Position )\n",
    "        \n",
    "    popc = np.reshape(popc , nCrossover)\n",
    "\n",
    "\n",
    "    popm = np.empty(nMutation , dtype=Individual)\n",
    "\n",
    "    for k in range(nMutation):\n",
    "        popm[k] = Individual()\n",
    "        i = np.random.randint(0 , nPop)\n",
    "        p=pop[i]\n",
    "        popm[k].Position=Mutate(p.Position,mu,sigma)\n",
    "        popm[k].Cost = MOP2(popc[k].Position )\n",
    "       \n",
    "        \n",
    "    pop = pop+popc.tolist()+popm.tolist()\n",
    "    \n",
    "    pop , F = NonDominatedSorting(pop)\n",
    "    pop = CalcCrowdingDistance(pop,F)\n",
    "    pop , F = SortPopulation(pop)\n",
    "\n",
    "    pop = pop[0:nPop]\n",
    "\n",
    "    pop , F = NonDominatedSorting(pop)\n",
    "    pop = CalcCrowdingDistance(pop,F)\n",
    "    pop , F = SortPopulation(pop)\n",
    "\n",
    "    F1 = [pop[i] for i in F[1]]\n",
    "    print('Iteration ' + str(it)+': Number of F1 Members = ' + str(len(F1)))\n",
    " \n",
    "#plotting the Final results\n",
    "x = [[F1[j].Cost[0] for j in range(len(F1))]]\n",
    "y = [[F1[j].Cost[1] for j in range(len(F1))]]\n",
    "fig, ax = plt.subplots()\n",
    "ax.scatter(x, y, marker='o')\n",
    "plt.show()\n",
    "    "
   ]
  },
  {
   "cell_type": "markdown",
   "metadata": {},
   "source": [
    "Author:\n",
    "Mohsen Ghasemi\n",
    "email: shahin1009@gmail.com"
   ]
  }
 ],
 "metadata": {
  "interpreter": {
   "hash": "31f2aee4e71d21fbe5cf8b01ff0e069b9275f58929596ceb00d14d90e3e16cd6"
  },
  "kernelspec": {
   "display_name": "Python 3.8.10 64-bit",
   "language": "python",
   "name": "python3"
  },
  "language_info": {
   "codemirror_mode": {
    "name": "ipython",
    "version": 3
   },
   "file_extension": ".py",
   "mimetype": "text/x-python",
   "name": "python",
   "nbconvert_exporter": "python",
   "pygments_lexer": "ipython3",
   "version": "3.8.10"
  }
 },
 "nbformat": 4,
 "nbformat_minor": 2
}
